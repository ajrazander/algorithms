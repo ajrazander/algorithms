{
 "cells": [
  {
   "cell_type": "markdown",
   "metadata": {},
   "source": [
    "# Deutsch-Jozsa Algorithm\n",
    "\n",
    "Deutsch's problem, which was later generalized to the Deutsch-Josza algorithm, was the first quantum algorithm with an exponential speed-up compared to any classical algorithm. Though the problem itself hasn't found any usefulness, it also showed that a qauntum computer can answer a question way faster than a normal computer and with 100% probablity of getting the right answer (excluding noise). It later inspired Simon's algorithm which inspired Shor's algorithm.\n",
    "\n",
    "#### Prerequisites:\n",
    "* [Theory Basics: the Qubit](https://appliedqc.org/2020/01/20/Theory-Basics-The-Qubit.html)\n",
    "* Dirac notation"
   ]
  },
  {
   "cell_type": "code",
   "execution_count": 1,
   "metadata": {},
   "outputs": [],
   "source": [
    "# This may take a few seconds\n",
    "import numpy as np\n",
    "import pandas as pd\n",
    "from qiskit import *\n",
    "import matplotlib.pyplot as plt"
   ]
  },
  {
   "cell_type": "markdown",
   "metadata": {},
   "source": [
    "## Deutsch Problem (and algorithm)\n",
    "We'll first start with Deutsch's original algorithm. The problem it answered goes like this. Given an unknown (aka black box) binary function $f(x)$ that maps one bit to another bit, $f(x):\\{0,1\\} \\rightarrow\\{0,1\\}$, determine if $f(x)$ is constant or balanced. A constant function means $f(0)=f(1)$ while a balanced function means $f(0)\\neq f(1)$ (since we're only considering binary input and output). For one input qubit and one output qubit, there are only four possible binary functions. Let's name them $f_0,f_1,f_2, \\text{and} f_3$ and tabulate their possible outputs.\n",
    "\n",
    "$$\n",
    "\\begin{array}{c|c|c}\n",
    "  & x=0 & x=1 \\\\\\hline\n",
    "  f_0(x)= & 0 & 0 \\\\\\hline\n",
    "  f_1(x)= & 0 & 1 \\\\\\hline\n",
    "  f_2(x)= & 1 & 0 \\\\\\hline\n",
    "  f_3(x)= & 1 & 1 \\\\\n",
    "\\end{array}\n",
    "$$\n",
    "\n",
    "From this table, we see $f_0$ and $f_3$ are constant functions while $f_1$ and $f_2$ are balanced functions. Now, let's say a friend randomly picks one of these functions but hides which one by calling it $f(x)$. Our friend implements the randomly chosen $f(x)$ as a unitary (probability conserving) operation $U_f$ that spans the input (q_0) and output (q_1) qubits like so..."
   ]
  },
  {
   "cell_type": "code",
   "execution_count": 67,
   "metadata": {},
   "outputs": [
    {
     "data": {
      "text/html": [
       "<pre style=\"word-wrap: normal;white-space: pre;background: #fff0;line-height: 1.1;font-family: &quot;Courier New&quot;,Courier,monospace\">        ┌──────┐\n",
       "q_0: |0>┤0     ├\n",
       "        │  U_f │\n",
       "q_1: |0>┤1     ├\n",
       "        └──────┘\n",
       " c_0: 0 ════════\n",
       "                </pre>"
      ],
      "text/plain": [
       "<qiskit.visualization.text.TextDrawing at 0x123e25128>"
      ]
     },
     "execution_count": 67,
     "metadata": {},
     "output_type": "execute_result"
    }
   ],
   "source": [
    "circuit = QuantumCircuit(2,1)\n",
    "# circuit.h([0,1])\n",
    "# circuit.barrier()\n",
    "circuit.append(qiskit.circuit.Gate(name='U_f', num_qubits=2, params=[]), [0,1])\n",
    "# circuit.barrier()\n",
    "# circuit.h([0,1])\n",
    "# circuit.measure([0, 1], [0, 1])\n",
    "# Visualize the constructed circuit\n",
    "circuit.draw()"
   ]
  },
  {
   "cell_type": "markdown",
   "metadata": {},
   "source": [
    "The classical approach would be to try every possible input and measure the output. Once we tried both 0 and 1 as inputs, we'd know if $f(x)$ is balanced or not.\n",
    "\n",
    "The quantum approach (1) makes a superposition of all possible inputs and (2) interferes the possibilities such that a 0 measured on q_0 (the input qubit) means $f(x)$ is constant and 1 measured on q_0 means $f(x)$ is balanced.\n",
    "\n",
    "Let's do it!\n",
    "\n",
    "To makes a superposition of all possible inputs, we apply a Hadamard (H) to the input qubit q_0. To get the right interference q_1 needs to be a 1 and also in a superposition, so it will get gates X then H. We apply the mystery function as a unitary operation on the qubits $U_f$. To complete the interference, every qubit gets and H after $U_f$. Then we measure. Our circuit will look something like this."
   ]
  },
  {
   "cell_type": "code",
   "execution_count": 69,
   "metadata": {},
   "outputs": [
    {
     "data": {
      "text/html": [
       "<pre style=\"word-wrap: normal;white-space: pre;background: #fff0;line-height: 1.1;font-family: &quot;Courier New&quot;,Courier,monospace\">        ┌───┐      ░ ┌──────┐ ░ ┌───┐┌─┐   \n",
       "q_0: |0>┤ H ├──────░─┤0     ├─░─┤ H ├┤M├───\n",
       "        ├───┤┌───┐ ░ │  U_f │ ░ ├───┤└╥┘┌─┐\n",
       "q_1: |0>┤ X ├┤ H ├─░─┤1     ├─░─┤ H ├─╫─┤M├\n",
       "        └───┘└───┘ ░ └──────┘ ░ └───┘ ║ └╥┘\n",
       " c_0: 0 ══════════════════════════════╩══╬═\n",
       "                                         ║ \n",
       " c_1: 0 ═════════════════════════════════╩═\n",
       "                                           </pre>"
      ],
      "text/plain": [
       "<qiskit.visualization.text.TextDrawing at 0x123df7e80>"
      ]
     },
     "execution_count": 69,
     "metadata": {},
     "output_type": "execute_result"
    }
   ],
   "source": [
    "circuit = QuantumCircuit(2,2)\n",
    "circuit.x(1)\n",
    "circuit.h([0,1])\n",
    "circuit.barrier()\n",
    "circuit.append(qiskit.circuit.Gate(name='U_f', num_qubits=2, params=[]), [0,1])\n",
    "circuit.barrier()\n",
    "circuit.h([0,1])\n",
    "circuit.measure([0, 1], [0, 1])\n",
    "# Visualize the constructed circuit\n",
    "circuit.draw()"
   ]
  },
  {
   "cell_type": "markdown",
   "metadata": {},
   "source": [
    "For sake of experimenting, let's pick some $U_f$s and see if the algorithm works!"
   ]
  },
  {
   "cell_type": "code",
   "execution_count": 71,
   "metadata": {},
   "outputs": [
    {
     "ename": "AttributeError",
     "evalue": "'QuantumCircuit' object has no attribute 'id'",
     "output_type": "error",
     "traceback": [
      "\u001b[0;31m---------------------------------------------------------------------------\u001b[0m",
      "\u001b[0;31mAttributeError\u001b[0m                            Traceback (most recent call last)",
      "\u001b[0;32m<ipython-input-71-7a4309b0eacc>\u001b[0m in \u001b[0;36m<module>\u001b[0;34m\u001b[0m\n\u001b[1;32m      3\u001b[0m \u001b[0mcircuit\u001b[0m\u001b[0;34m.\u001b[0m\u001b[0mh\u001b[0m\u001b[0;34m(\u001b[0m\u001b[0;34m[\u001b[0m\u001b[0;36m0\u001b[0m\u001b[0;34m,\u001b[0m\u001b[0;36m1\u001b[0m\u001b[0;34m]\u001b[0m\u001b[0;34m)\u001b[0m\u001b[0;34m\u001b[0m\u001b[0m\n\u001b[1;32m      4\u001b[0m \u001b[0mcircuit\u001b[0m\u001b[0;34m.\u001b[0m\u001b[0mbarrier\u001b[0m\u001b[0;34m(\u001b[0m\u001b[0;34m)\u001b[0m\u001b[0;34m\u001b[0m\u001b[0m\n\u001b[0;32m----> 5\u001b[0;31m \u001b[0mcircuit\u001b[0m\u001b[0;34m.\u001b[0m\u001b[0mid\u001b[0m\u001b[0;34m(\u001b[0m\u001b[0;34m[\u001b[0m\u001b[0;36m0\u001b[0m\u001b[0;34m,\u001b[0m\u001b[0;36m1\u001b[0m\u001b[0;34m]\u001b[0m\u001b[0;34m)\u001b[0m\u001b[0;34m\u001b[0m\u001b[0m\n\u001b[0m\u001b[1;32m      6\u001b[0m \u001b[0mcircuit\u001b[0m\u001b[0;34m.\u001b[0m\u001b[0mbarrier\u001b[0m\u001b[0;34m(\u001b[0m\u001b[0;34m)\u001b[0m\u001b[0;34m\u001b[0m\u001b[0m\n\u001b[1;32m      7\u001b[0m \u001b[0mcircuit\u001b[0m\u001b[0;34m.\u001b[0m\u001b[0mh\u001b[0m\u001b[0;34m(\u001b[0m\u001b[0;34m[\u001b[0m\u001b[0;36m0\u001b[0m\u001b[0;34m,\u001b[0m\u001b[0;36m1\u001b[0m\u001b[0;34m]\u001b[0m\u001b[0;34m)\u001b[0m\u001b[0;34m\u001b[0m\u001b[0m\n",
      "\u001b[0;31mAttributeError\u001b[0m: 'QuantumCircuit' object has no attribute 'id'"
     ]
    }
   ],
   "source": [
    "circuit = QuantumCircuit(2,2)\n",
    "circuit.x(1)\n",
    "circuit.h([0,1])\n",
    "circuit.barrier()\n",
    "circuit.id([0,1])\n",
    "circuit.barrier()\n",
    "circuit.h([0,1])\n",
    "circuit.measure([0, 1], [0, 1])\n",
    "# Visualize the constructed circuit\n",
    "circuit.draw()"
   ]
  },
  {
   "cell_type": "code",
   "execution_count": null,
   "metadata": {},
   "outputs": [],
   "source": []
  },
  {
   "cell_type": "markdown",
   "metadata": {},
   "source": [
    "## Deutsch-Jozsa Problem (and algorithm)"
   ]
  },
  {
   "cell_type": "code",
   "execution_count": null,
   "metadata": {},
   "outputs": [],
   "source": []
  },
  {
   "cell_type": "code",
   "execution_count": null,
   "metadata": {},
   "outputs": [],
   "source": []
  }
 ],
 "metadata": {
  "kernelspec": {
   "display_name": "Python 3",
   "language": "python",
   "name": "python3"
  },
  "language_info": {
   "codemirror_mode": {
    "name": "ipython",
    "version": 3
   },
   "file_extension": ".py",
   "mimetype": "text/x-python",
   "name": "python",
   "nbconvert_exporter": "python",
   "pygments_lexer": "ipython3",
   "version": "3.6.4"
  }
 },
 "nbformat": 4,
 "nbformat_minor": 2
}
