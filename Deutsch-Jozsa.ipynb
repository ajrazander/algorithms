{
 "cells": [
  {
   "cell_type": "markdown",
   "metadata": {},
   "source": [
    "# Deutsch-Jozsa Algorithm\n",
    "\n",
    "Deutsch's problem, which was later generalized to the Deutsch-Josza algorithm, was the first quantum algorithm with an exponential speed-up compared to any classical algorithm. Though the problem itself hasn't found any usefulness, it also showed that a qauntum computer can answer a question way faster than a normal computer and with 100% probablity of getting the right answer (excluding noise). It later inspired Simon's algorithm which inspired Shor's algorithm.\n",
    "\n",
    "#### Prerequisites:\n",
    "* [Theory Basics: the Qubit](https://appliedqc.org/2020/01/20/Theory-Basics-The-Qubit.html)\n",
    "* Dirac notation"
   ]
  },
  {
   "cell_type": "code",
   "execution_count": 1,
   "metadata": {},
   "outputs": [],
   "source": [
    "# This may take a few seconds\n",
    "import numpy as np\n",
    "import pandas as pd\n",
    "from qiskit import *\n",
    "import matplotlib.pyplot as plt"
   ]
  },
  {
   "cell_type": "markdown",
   "metadata": {},
   "source": [
    "## Deutsch Problem (and algorithm)\n",
    "We'll first start with Deutsch's original algorithm. The problem it answered goes like this. Given an unknown (aka black box) binary function $f(x)$ that maps one bit to another bit, $f(x):\\{0,1\\} \\rightarrow\\{0,1\\}$, determine if $f(x)$ is constant or balanced. A constant function means $f(0)=f(1)$ while a balanced function means $f(0)\\neq f(1)$ (since we're only considering binary input and output). For one input qubit and one output qubit, there are only four possible binary functions. Let's name them $f_0,f_1,f_2, \\text{and} f_3$ and tabulate their possible outputs.\n",
    "\n",
    "$$\n",
    "\\begin{array}{c|c|c}\n",
    "  & x=0 & x=1 \\\\\\hline\n",
    "  f_0(x)= & 0 & 0 \\\\\\hline\n",
    "  f_1(x)= & 0 & 1 \\\\\\hline\n",
    "  f_2(x)= & 1 & 0 \\\\\\hline\n",
    "  f_3(x)= & 1 & 1 \\\\\n",
    "\\end{array}\n",
    "$$\n",
    "\n",
    "From this table, we see $f_0$ and $f_3$ are constant functions while $f_1$ and $f_2$ are balanced functions. Now, let's say a friend randomly picks one of these functions but hides which one by calling it $f(x)$. Our friend implements the randomly chosen $f(x)$ as a unitary (probability conserving) operation $U_f$ that spans the input (q_0) and output (q_1) qubits like so..."
   ]
  },
  {
   "cell_type": "code",
   "execution_count": 2,
   "metadata": {},
   "outputs": [
    {
     "data": {
      "text/html": [
       "<pre style=\"word-wrap: normal;white-space: pre;background: #fff0;line-height: 1.1;font-family: &quot;Courier New&quot;,Courier,monospace\">        ┌──────┐\n",
       "q_0: |0>┤0     ├\n",
       "        │  U_f │\n",
       "q_1: |0>┤1     ├\n",
       "        └──────┘\n",
       " c_0: 0 ════════\n",
       "                </pre>"
      ],
      "text/plain": [
       "<qiskit.visualization.text.TextDrawing at 0x12b30b5c0>"
      ]
     },
     "execution_count": 2,
     "metadata": {},
     "output_type": "execute_result"
    }
   ],
   "source": [
    "circuit = QuantumCircuit(2,1)\n",
    "circuit.append(qiskit.circuit.Gate(name='U_f', num_qubits=2, params=[]), [0,1])\n",
    "circuit.draw()"
   ]
  },
  {
   "cell_type": "markdown",
   "metadata": {},
   "source": [
    "The classical approach would be to try every possible input and measure the output. Once we tried both 0 and 1 as inputs, we'd know if $f(x)$ is balanced or not.\n",
    "\n",
    "The quantum approach (1) makes a superposition of all possible inputs and (2) interferes the possibilities such that a 0 measured on q_0 (the input qubit) means $f(x)$ is constant and 1 measured on q_0 means $f(x)$ is balanced.\n",
    "\n",
    "Let's do it!\n",
    "\n",
    "To makes a superposition of all possible inputs, we apply a Hadamard (H) to the input qubit q_0. To get the right interference q_1 needs to be a 1 and also in a superposition, so it will get gates X then H. We apply the mystery function as a unitary operation on the qubits $U_f$. To complete the interference, every qubit gets and H after $U_f$. Then we measure. Our circuit will look something like this."
   ]
  },
  {
   "cell_type": "code",
   "execution_count": 3,
   "metadata": {},
   "outputs": [
    {
     "data": {
      "text/html": [
       "<pre style=\"word-wrap: normal;white-space: pre;background: #fff0;line-height: 1.1;font-family: &quot;Courier New&quot;,Courier,monospace\">        ┌───┐      ░ ┌──────┐ ░ ┌───┐┌─┐\n",
       "q_0: |0>┤ H ├──────░─┤0     ├─░─┤ H ├┤M├\n",
       "        ├───┤┌───┐ ░ │  U_f │ ░ ├───┤└╥┘\n",
       "q_1: |0>┤ X ├┤ H ├─░─┤1     ├─░─┤ H ├─╫─\n",
       "        └───┘└───┘ ░ └──────┘ ░ └───┘ ║ \n",
       " c_0: 0 ══════════════════════════════╩═\n",
       "                                        </pre>"
      ],
      "text/plain": [
       "<qiskit.visualization.text.TextDrawing at 0x12b325358>"
      ]
     },
     "execution_count": 3,
     "metadata": {},
     "output_type": "execute_result"
    }
   ],
   "source": [
    "circuit = QuantumCircuit(2,1)\n",
    "circuit.x(1)\n",
    "circuit.h([0,1])\n",
    "circuit.barrier()\n",
    "circuit.append(qiskit.circuit.Gate(name='U_f', num_qubits=2, params=[]), [0,1])\n",
    "circuit.barrier()\n",
    "circuit.h([0,1])\n",
    "circuit.measure([0],[0])\n",
    "# Visualize the constructed circuit\n",
    "circuit.draw()"
   ]
  },
  {
   "cell_type": "markdown",
   "metadata": {},
   "source": [
    "For sake of experimenting, let's pick some $U_f$s and see if the algorithm works! The simplest $U_f$ is nothing. This would correspond to a constant function; no matter what state we make q_0 (the input), q_1 (the output) will always be 1. Remember, for a constant function q_0 should always be in the 0 state."
   ]
  },
  {
   "cell_type": "code",
   "execution_count": 4,
   "metadata": {},
   "outputs": [
    {
     "data": {
      "text/html": [
       "<pre style=\"word-wrap: normal;white-space: pre;background: #fff0;line-height: 1.1;font-family: &quot;Courier New&quot;,Courier,monospace\">        ┌───┐      ░  ░ ┌───┐┌─┐\n",
       "q_0: |0>┤ H ├──────░──░─┤ H ├┤M├\n",
       "        ├───┤┌───┐ ░  ░ ├───┤└╥┘\n",
       "q_1: |0>┤ X ├┤ H ├─░──░─┤ H ├─╫─\n",
       "        └───┘└───┘ ░  ░ └───┘ ║ \n",
       " c_0: 0 ══════════════════════╩═\n",
       "                                </pre>"
      ],
      "text/plain": [
       "<qiskit.visualization.text.TextDrawing at 0x10b637438>"
      ]
     },
     "execution_count": 4,
     "metadata": {},
     "output_type": "execute_result"
    }
   ],
   "source": [
    "circuit = QuantumCircuit(2,1)\n",
    "circuit.x(1)\n",
    "circuit.h([0,1])\n",
    "circuit.barrier()\n",
    "circuit.barrier()\n",
    "circuit.h([0,1])\n",
    "circuit.measure([0], [0])\n",
    "# Visualize the constructed circuit\n",
    "circuit.draw()"
   ]
  },
  {
   "cell_type": "code",
   "execution_count": 5,
   "metadata": {},
   "outputs": [
    {
     "data": {
      "image/png": "[encoded data removed]",
      "text/plain": [
       "<Figure size 504x360 with 1 Axes>"
      ]
     },
     "execution_count": 5,
     "metadata": {},
     "output_type": "execute_result"
    }
   ],
   "source": [
    "# Execute quantum circuit and view results\n",
    "backend_sim = BasicAer.get_backend('qasm_simulator')\n",
    "simulator_shots = 10000\n",
    "\n",
    "result = execute(circuit, backend_sim, shots=simulator_shots).result()\n",
    "counts = result.get_counts(circuit)\n",
    "visualization.plot_histogram(counts)"
   ]
  },
  {
   "cell_type": "markdown",
   "metadata": {},
   "source": [
    "Ta-da! The histogram shows 0 with 100% probability! Let's run through the other three unique $U_f$s"
   ]
  },
  {
   "cell_type": "code",
   "execution_count": 6,
   "metadata": {},
   "outputs": [
    {
     "data": {
      "text/html": [
       "<pre style=\"word-wrap: normal;white-space: pre;background: #fff0;line-height: 1.1;font-family: &quot;Courier New&quot;,Courier,monospace\">        ┌───┐      ░       ░ ┌───┐┌─┐\n",
       "q_0: |0>┤ H ├──────░───────░─┤ H ├┤M├\n",
       "        ├───┤┌───┐ ░ ┌───┐ ░ ├───┤└╥┘\n",
       "q_1: |0>┤ X ├┤ H ├─░─┤ X ├─░─┤ H ├─╫─\n",
       "        └───┘└───┘ ░ └───┘ ░ └───┘ ║ \n",
       " c_0: 0 ═══════════════════════════╩═\n",
       "                                     </pre>"
      ],
      "text/plain": [
       "<qiskit.visualization.text.TextDrawing at 0x12b420c50>"
      ]
     },
     "execution_count": 6,
     "metadata": {},
     "output_type": "execute_result"
    }
   ],
   "source": [
    "# Constant U_f. Should get a 0 on q_0\n",
    "\n",
    "circuit = QuantumCircuit(2,1)\n",
    "circuit.x(1)\n",
    "circuit.h([0,1])\n",
    "circuit.barrier()\n",
    "circuit.x(1)\n",
    "circuit.barrier()\n",
    "circuit.h([0,1])\n",
    "circuit.measure([0], [0])\n",
    "# Visualize the constructed circuit\n",
    "circuit.draw()"
   ]
  },
  {
   "cell_type": "code",
   "execution_count": 7,
   "metadata": {},
   "outputs": [
    {
     "data": {
      "image/png": "[encoded data removed]",
      "text/plain": [
       "<Figure size 504x360 with 1 Axes>"
      ]
     },
     "execution_count": 7,
     "metadata": {},
     "output_type": "execute_result"
    }
   ],
   "source": [
    "# Execute quantum circuit and view results\n",
    "result = execute(circuit, backend_sim, shots=simulator_shots).result()\n",
    "counts = result.get_counts(circuit)\n",
    "visualization.plot_histogram(counts)"
   ]
  },
  {
   "cell_type": "code",
   "execution_count": 8,
   "metadata": {},
   "outputs": [
    {
     "data": {
      "text/html": [
       "<pre style=\"word-wrap: normal;white-space: pre;background: #fff0;line-height: 1.1;font-family: &quot;Courier New&quot;,Courier,monospace\">        ┌───┐      ░       ░ ┌───┐┌─┐\n",
       "q_0: |0>┤ H ├──────░───■───░─┤ H ├┤M├\n",
       "        ├───┤┌───┐ ░ ┌─┴─┐ ░ ├───┤└╥┘\n",
       "q_1: |0>┤ X ├┤ H ├─░─┤ X ├─░─┤ H ├─╫─\n",
       "        └───┘└───┘ ░ └───┘ ░ └───┘ ║ \n",
       " c_0: 0 ═══════════════════════════╩═\n",
       "                                     </pre>"
      ],
      "text/plain": [
       "<qiskit.visualization.text.TextDrawing at 0x12b521908>"
      ]
     },
     "execution_count": 8,
     "metadata": {},
     "output_type": "execute_result"
    }
   ],
   "source": [
    "# Balanced U_f. Should get a 1 on q_0\n",
    "\n",
    "circuit = QuantumCircuit(2,1)\n",
    "circuit.x(1)\n",
    "circuit.h([0,1])\n",
    "circuit.barrier()\n",
    "circuit.cx(0,1)\n",
    "circuit.barrier()\n",
    "circuit.h([0,1])\n",
    "circuit.measure([0], [0])\n",
    "# Visualize the constructed circuit\n",
    "circuit.draw()"
   ]
  },
  {
   "cell_type": "code",
   "execution_count": 9,
   "metadata": {},
   "outputs": [
    {
     "data": {
      "image/png": "[encoded data removed]",
      "text/plain": [
       "<Figure size 504x360 with 1 Axes>"
      ]
     },
     "execution_count": 9,
     "metadata": {},
     "output_type": "execute_result"
    }
   ],
   "source": [
    "# Execute quantum circuit and view results\n",
    "result = execute(circuit, backend_sim, shots=simulator_shots).result()\n",
    "counts = result.get_counts(circuit)\n",
    "visualization.plot_histogram(counts)"
   ]
  },
  {
   "cell_type": "code",
   "execution_count": 10,
   "metadata": {},
   "outputs": [
    {
     "data": {
      "text/html": [
       "<pre style=\"word-wrap: normal;white-space: pre;background: #fff0;line-height: 1.1;font-family: &quot;Courier New&quot;,Courier,monospace\">        ┌───┐      ░            ░ ┌───┐┌─┐\n",
       "q_0: |0>┤ H ├──────░────────■───░─┤ H ├┤M├\n",
       "        ├───┤┌───┐ ░ ┌───┐┌─┴─┐ ░ ├───┤└╥┘\n",
       "q_1: |0>┤ X ├┤ H ├─░─┤ X ├┤ X ├─░─┤ H ├─╫─\n",
       "        └───┘└───┘ ░ └───┘└───┘ ░ └───┘ ║ \n",
       " c_0: 0 ════════════════════════════════╩═\n",
       "                                          </pre>"
      ],
      "text/plain": [
       "<qiskit.visualization.text.TextDrawing at 0x12b571e48>"
      ]
     },
     "execution_count": 10,
     "metadata": {},
     "output_type": "execute_result"
    }
   ],
   "source": [
    "# Balanced U_f. Should get a 1 on q_0\n",
    "\n",
    "circuit = QuantumCircuit(2,1)\n",
    "circuit.x(1)\n",
    "circuit.h([0,1])\n",
    "circuit.barrier()\n",
    "circuit.x(1)\n",
    "circuit.cx(0,1)\n",
    "circuit.barrier()\n",
    "circuit.h([0,1])\n",
    "circuit.measure([0], [0])\n",
    "# Visualize circuit\n",
    "circuit.draw()"
   ]
  },
  {
   "cell_type": "code",
   "execution_count": 11,
   "metadata": {},
   "outputs": [
    {
     "data": {
      "image/png": "[encoded data removed]",
      "text/plain": [
       "<Figure size 504x360 with 1 Axes>"
      ]
     },
     "execution_count": 11,
     "metadata": {},
     "output_type": "execute_result"
    }
   ],
   "source": [
    "# Execute quantum circuit and view results\n",
    "result = execute(circuit, backend_sim, shots=simulator_shots).result()\n",
    "counts = result.get_counts(circuit)\n",
    "visualization.plot_histogram(counts)"
   ]
  },
  {
   "cell_type": "markdown",
   "metadata": {},
   "source": [
    "Of course, we should also runs these on a <strong>Real Quantum Computer</strong>. I'll pick the third $U_f$ which is a balanced function. You will need to have an [IBM Q Experience account](https://quantum-computing.ibm.com) to do this."
   ]
  },
  {
   "cell_type": "code",
   "execution_count": 12,
   "metadata": {},
   "outputs": [
    {
     "data": {
      "text/plain": [
       "BackendStatus(backend_name='ibmq_burlington', backend_version='1.1.4', operational=True, pending_jobs=1, status_msg='active')"
      ]
     },
     "execution_count": 12,
     "metadata": {},
     "output_type": "execute_result"
    }
   ],
   "source": [
    "# Filter backends to find the least busy 5 qubit quantum computer and check current \"pending_jobs\"\n",
    "from qiskit.providers.ibmq import least_busy\n",
    "\n",
    "IBMQ.load_account() # Load account from disk\n",
    "provider = IBMQ.get_provider(hub='ibm-q')\n",
    "smaller_qcs = provider.backends(filters=lambda x: x.configuration().n_qubits == 5 and not x.configuration().simulator)\n",
    "backend_real = least_busy(smaller_qcs)\n",
    "max_real_shots = 8192\n",
    "\n",
    "# Check status and \"pending_jobs\" to see how long it might take to run\n",
    "backend_real.status()"
   ]
  },
  {
   "cell_type": "code",
   "execution_count": 13,
   "metadata": {},
   "outputs": [
    {
     "data": {
      "text/html": [
       "<pre style=\"word-wrap: normal;white-space: pre;background: #fff0;line-height: 1.1;font-family: &quot;Courier New&quot;,Courier,monospace\">        ┌───┐      ░       ░ ┌───┐┌─┐\n",
       "q_0: |0>┤ H ├──────░───■───░─┤ H ├┤M├\n",
       "        ├───┤┌───┐ ░ ┌─┴─┐ ░ ├───┤└╥┘\n",
       "q_1: |0>┤ X ├┤ H ├─░─┤ X ├─░─┤ H ├─╫─\n",
       "        └───┘└───┘ ░ └───┘ ░ └───┘ ║ \n",
       " c_0: 0 ═══════════════════════════╩═\n",
       "                                     </pre>"
      ],
      "text/plain": [
       "<qiskit.visualization.text.TextDrawing at 0x12b30bcf8>"
      ]
     },
     "execution_count": 13,
     "metadata": {},
     "output_type": "execute_result"
    }
   ],
   "source": [
    "circuit = QuantumCircuit(2,1)\n",
    "circuit.x(1)\n",
    "circuit.h([0,1])\n",
    "circuit.barrier()\n",
    "circuit.cx(0,1)\n",
    "circuit.barrier()\n",
    "circuit.h([0,1])\n",
    "circuit.measure([0], [0])\n",
    "# Visualize circuit\n",
    "circuit.draw()"
   ]
  },
  {
   "cell_type": "code",
   "execution_count": 14,
   "metadata": {},
   "outputs": [
    {
     "data": {
      "image/png": "[encoded data removed]",
      "text/plain": [
       "<Figure size 504x360 with 1 Axes>"
      ]
     },
     "execution_count": 14,
     "metadata": {},
     "output_type": "execute_result"
    }
   ],
   "source": [
    "# Execute quantum circuit and view results on a real quantum computer. max shots = 8192.\n",
    "result = execute(circuit, backend_real, shots=max_real_shots).result()\n",
    "counts = result.get_counts(circuit)\n",
    "visualization.plot_histogram(counts)"
   ]
  },
  {
   "cell_type": "markdown",
   "metadata": {},
   "source": [
    "Deutsch's algorithm <strong>guarantees</strong> q_0 will be 1 at the output for a balanced $U_f$, but that's not what we just measured! There's ~24% of a 0 state. What happened?? Well, the quantum computer isn't perfectly quantum all the time: electrical noise in executing the gates, the temperature of the superconducting chips, vibrations, etc. etc. all work toward making these qubits no longer \"quantum\"."
   ]
  },
  {
   "cell_type": "markdown",
   "metadata": {},
   "source": [
    "## Deutsch-Jozsa Problem (and algorithm)\n",
    "The extension from Deutsch to Deutsch-Jozsa is straight forward. We simply increase the number of input qubits from 1 to $n$. The reset of the process is the same. Measuring the $n$ input qubits at the very end will give all 0's only for a constant function and <strong>any other</strong> state for a balanced function. Try and make you're own balanced or constant $U_f$ and see how it goes. Here's mine attempt using a balanced function of just one control not gate. Remember, for a balanced function, the measured state of the input qubits should give a state OTHER than 0000."
   ]
  },
  {
   "cell_type": "code",
   "execution_count": 15,
   "metadata": {},
   "outputs": [
    {
     "data": {
      "text/html": [
       "<pre style=\"word-wrap: normal;white-space: pre;background: #fff0;line-height: 1.1;font-family: &quot;Courier New&quot;,Courier,monospace\">        ┌───┐      ░       ░ ┌───┐ ░ ┌─┐         \n",
       "q_0: |0>┤ H ├──────░───────░─┤ H ├─░─┤M├─────────\n",
       "        ├───┤      ░       ░ ├───┤ ░ └╥┘┌─┐      \n",
       "q_1: |0>┤ H ├──────░───────░─┤ H ├─░──╫─┤M├──────\n",
       "        ├───┤      ░       ░ ├───┤ ░  ║ └╥┘┌─┐   \n",
       "q_2: |0>┤ H ├──────░───────░─┤ H ├─░──╫──╫─┤M├───\n",
       "        ├───┤      ░       ░ ├───┤ ░  ║  ║ └╥┘┌─┐\n",
       "q_3: |0>┤ H ├──────░───■───░─┤ H ├─░──╫──╫──╫─┤M├\n",
       "        ├───┤┌───┐ ░ ┌─┴─┐ ░ ├───┤ ░  ║  ║  ║ └╥┘\n",
       "q_4: |0>┤ X ├┤ H ├─░─┤ X ├─░─┤ H ├─░──╫──╫──╫──╫─\n",
       "        └───┘└───┘ ░ └───┘ ░ └───┘ ░  ║  ║  ║  ║ \n",
       " c_0: 0 ══════════════════════════════╩══╬══╬══╬═\n",
       "                                         ║  ║  ║ \n",
       " c_1: 0 ═════════════════════════════════╩══╬══╬═\n",
       "                                            ║  ║ \n",
       " c_2: 0 ════════════════════════════════════╩══╬═\n",
       "                                               ║ \n",
       " c_3: 0 ═══════════════════════════════════════╩═\n",
       "                                                 </pre>"
      ],
      "text/plain": [
       "<qiskit.visualization.text.TextDrawing at 0x12b432b38>"
      ]
     },
     "execution_count": 15,
     "metadata": {},
     "output_type": "execute_result"
    }
   ],
   "source": [
    "circuit = QuantumCircuit(5,4)\n",
    "circuit.x(4)\n",
    "circuit.h([0,1,2,3,4])\n",
    "circuit.barrier()\n",
    "circuit.cx(3,4)\n",
    "circuit.barrier()\n",
    "circuit.h([0,1,2,3,4])\n",
    "circuit.measure([0,1,2,3], [0,1,2,3])\n",
    "# Visualize circuit\n",
    "circuit.draw()"
   ]
  },
  {
   "cell_type": "code",
   "execution_count": 16,
   "metadata": {},
   "outputs": [
    {
     "data": {
      "image/png": "[encoded data removed]",
      "text/plain": [
       "<Figure size 504x360 with 1 Axes>"
      ]
     },
     "execution_count": 16,
     "metadata": {},
     "output_type": "execute_result"
    }
   ],
   "source": [
    "# Execute quantum circuit and view results\n",
    "result = execute(circuit, backend_sim, shots=simulator_shots).result()\n",
    "counts = result.get_counts(circuit)\n",
    "visualization.plot_histogram(counts)"
   ]
  },
  {
   "cell_type": "code",
   "execution_count": null,
   "metadata": {},
   "outputs": [],
   "source": [
    "result = execute(circuit, backend_real, shots=max_real_shots).result()\n",
    "counts = result.get_counts(circuit)\n",
    "visualization.plot_histogram(counts)"
   ]
  }
 ],
 "metadata": {
  "kernelspec": {
   "display_name": "Python 3",
   "language": "python",
   "name": "python3"
  },
  "language_info": {
   "codemirror_mode": {
    "name": "ipython",
    "version": 3
   },
   "file_extension": ".py",
   "mimetype": "text/x-python",
   "name": "python",
   "nbconvert_exporter": "python",
   "pygments_lexer": "ipython3",
   "version": "3.6.4"
  }
 },
 "nbformat": 4,
 "nbformat_minor": 2
}
