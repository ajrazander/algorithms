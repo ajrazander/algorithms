{
 "cells": [
  {
   "cell_type": "markdown",
   "metadata": {},
   "source": [
    "# Deutsch-Jozsa Algorithm\n",
    "\n",
    "Deutsch's algorithm, which was later generalized to the Deutsch-Josza algorithm, was the first quantum algorithm with an exponential speed-up compared to any classical algorithm. I went through the basics of the algorithm in [this post](https://appliedqc.org/2020/02/27/Deutsch-Jozsa-Algorithm.html). Now I want to do an actual, real life comparison between quantum and classical.\n",
    "\n",
    "#### Prerequisites:\n",
    "* [Deutsch-Jozsa Algoirthm: 1st Expoential Quantum Speedup](https://appliedqc.org/2020/02/27/Deutsch-Jozsa-Algorithm.html)"
   ]
  },
  {
   "cell_type": "code",
   "execution_count": 1,
   "metadata": {},
   "outputs": [],
   "source": [
    "import numpy as np\n",
    "import random\n",
    "import time\n",
    "\n",
    "from qiskit import *"
   ]
  },
  {
   "cell_type": "markdown",
   "metadata": {},
   "source": [
    "## Review: Deutsch-Jozsa Problem (and algorithm)\n",
    "The Deutsch-Jozsa problem is specially concocted to give a quantum computer an exponential speedup compared to a classical computer. Let's review the problem and its solution.\n",
    "\n",
    "The problem goes like this. Given an unknown binary function $f(x)$ (aka black box or oracle) that maps $n$ bit to one bit, $f(x):\\{0,1\\}^n \\rightarrow\\{0,1\\}$, determine if $f(x)$ is constant or balanced. A constant function means no matter what binary number we input, $f(x)$ will always output the same value. A balanced function means half of the inputs output 0 and the other half output 1.\n",
    "\n",
    "### Quantum Algorithm\n",
    "And, if you remember, the algorithm went something like this:\n",
    "![png](Deutsch-Jozsa_algo.png)\n",
    "Measuring the $n$ input qubits at the very end will give all 0's <strong>only</strong> for a constant function. If we measure <strong>any other</strong> state, we know $f(x)$ is a balanced function. Thus, we know the answer in (theoretically) one execution of $f(x)$.\n",
    "\n",
    "### Classical Algorithm\n",
    "The deterministic way to do this is to input randomly binary numbers until either: (1) the function has output both a 0 and 1 or (2) we've tried $2^{n-1}+1$ numbers. In the case (1), once the function as output a 0 and 1, we immediately know the function is balanced. In case (2), we have tried one more input than half of all possible inputs. If the function has output the same value the whole time, it must be constant. Thus, the worst case scenario takes $2^{n-1}+1$ executions of $f(x)$. However, the best case scenario is a balanced function with $2$ executions.\n",
    "\n",
    "The best case scenario is exponentially better than the worst case, which got me thinking. How much exponentially faster is the quantum algorithm REALLY? If we randomly choose constant and balanced functions, what's the average speedup of the quantum computer? Is it still exponentially?\n",
    "\n",
    "## Generate Constant and Balanced Functions\n",
    "Our first step is to generate constant and balanced functions. The constant ones are easy, there are only two unique outputs! Haha. The balanced functions are trickier because there are lots of ways to do it. I'll pick a relatively easy way; given a binary input x, the output of $f_i(x)$ will be the ith digit of $x$. This will give us $n$ balanced functions to choose from. For $x=001$, then $f_0(x) = 1$, $f_1(x) = 0$, and $f_2(x) = 0$."
   ]
  },
  {
   "cell_type": "code",
   "execution_count": 2,
   "metadata": {},
   "outputs": [],
   "source": [
    "# Two possible functions\n",
    "def f_const1(x):\n",
    "    return 0\n",
    "\n",
    "def f_const2(x):\n",
    "    return 1\n",
    "\n",
    "# ith Balanced function. Returns the ith digital of x. Range is 0 to n-1 \n",
    "def f_bal0(x, i=0):\n",
    "    ith_digit = (x // 10**i) % 10\n",
    "    return ith_digit\n",
    "\n",
    "def f_bal1(x, i=1):\n",
    "    ith_digit = (x // 10**i) % 10\n",
    "    return ith_digit"
   ]
  },
  {
   "cell_type": "markdown",
   "metadata": {},
   "source": [
    "## Classical Algo\n",
    "Now that we have some functions, let's define our classical algorithm. The algorithm will unknowingly ingest either a balanced or constant function $f(x)$ and the number of bits $n$. Let's have it randomly choose binary numbers to run in the functions. If it tries $2^{n-1}+1$ inputs (one more than half the possible binary numbers for the given $n$) and gets the same output from $f(x)$ every time, it'll return a 0 indicating $f(x)$ is a constant function. If $f(x)$ outputs a 0 and 1, we'll immediately break and return a 1 indicating $f(x)$ is a balanced function."
   ]
  },
  {
   "cell_type": "code",
   "execution_count": 3,
   "metadata": {},
   "outputs": [],
   "source": [
    "# Helper function to convert between base 10 and base 2 (binary) numbers\n",
    "def dec_to_binary(x):\n",
    "    if x < 1:\n",
    "        return 0\n",
    "    binary_length = int(np.log2(x)) + 1  # calculat number of binary digits\n",
    "    binary = ['0']*binary_length  # will binary digits with '0'\n",
    "    while x > 0:\n",
    "        n = int(np.log2(x))\n",
    "        binary[binary_length - 1 - n] = '1'\n",
    "        x = x - 2**n\n",
    "    return int(\"\".join(binary))\n",
    "\n",
    "\n",
    "# Input function and number of bits. Returns 0 if f is constant and 1 if f is balanced\n",
    "def classical_algo(f, n):\n",
    "    random_inputs = random.sample(range(2**n), 2**(n-1)+1)  # 2^(n-1) + 1 unique random samples from 0 to 2^n - 1\n",
    "    outputs = []  # initialize list to later store outputs\n",
    "    start_time = time.time()\n",
    "    for i, x in enumerate(random_inputs):  # iterate through random inputs\n",
    "        outputs.append(f(x))  # keep track of f(x) outputs\n",
    "        if i > 1:\n",
    "            if outputs[i-1] != outputs[i]:  # if the outputs difference from the previous it must be a balanced function\n",
    "                return 1, (time.time() - start_time)  # BALANCED FUNCTION\n",
    "    # if we get this far, we tried 50% + 1 of the possible inputs all they all gave the same output. Must be constant.\n",
    "    return 0, (time.time() - start_time)  # CONSTANT FUNCTION\n"
   ]
  },
  {
   "cell_type": "markdown",
   "metadata": {},
   "source": [
    "## Function Sampling\n",
    "Next, we'll evenly choose between a balanced or constant function to run the gauntlet or out classical algorithm."
   ]
  },
  {
   "cell_type": "code",
   "execution_count": 87,
   "metadata": {},
   "outputs": [
    {
     "data": {
      "text/plain": [
       "1"
      ]
     },
     "execution_count": 87,
     "metadata": {},
     "output_type": "execute_result"
    }
   ],
   "source": [
    "x=101000\n",
    "i=3\n",
    "\n",
    "f_bal(x, i)"
   ]
  },
  {
   "cell_type": "code",
   "execution_count": 15,
   "metadata": {},
   "outputs": [
    {
     "data": {
      "text/html": [
       "<pre style=\"word-wrap: normal;white-space: pre;background: #fff0;line-height: 1.1;font-family: &quot;Courier New&quot;,Courier,monospace\">        ┌───┐      ░       ░ ┌───┐┌─┐         \n",
       "q_0: |0>┤ H ├──────░───────░─┤ H ├┤M├─────────\n",
       "        ├───┤      ░       ░ ├───┤└╥┘┌─┐      \n",
       "q_1: |0>┤ H ├──────░───────░─┤ H ├─╫─┤M├──────\n",
       "        ├───┤      ░       ░ ├───┤ ║ └╥┘┌─┐   \n",
       "q_2: |0>┤ H ├──────░───────░─┤ H ├─╫──╫─┤M├───\n",
       "        ├───┤      ░       ░ ├───┤ ║  ║ └╥┘┌─┐\n",
       "q_3: |0>┤ H ├──────░───■───░─┤ H ├─╫──╫──╫─┤M├\n",
       "        ├───┤┌───┐ ░ ┌─┴─┐ ░ ├───┤ ║  ║  ║ └╥┘\n",
       "q_4: |0>┤ X ├┤ H ├─░─┤ X ├─░─┤ H ├─╫──╫──╫──╫─\n",
       "        └───┘└───┘ ░ └───┘ ░ └───┘ ║  ║  ║  ║ \n",
       " c_0: 0 ═══════════════════════════╩══╬══╬══╬═\n",
       "                                      ║  ║  ║ \n",
       " c_1: 0 ══════════════════════════════╩══╬══╬═\n",
       "                                         ║  ║ \n",
       " c_2: 0 ═════════════════════════════════╩══╬═\n",
       "                                            ║ \n",
       " c_3: 0 ════════════════════════════════════╩═\n",
       "                                              </pre>"
      ],
      "text/plain": [
       "<qiskit.visualization.text.TextDrawing at 0x12b32a9e8>"
      ]
     },
     "execution_count": 15,
     "metadata": {},
     "output_type": "execute_result"
    }
   ],
   "source": [
    "circuit = QuantumCircuit(5,4)\n",
    "circuit.x(4)\n",
    "circuit.h([0,1,2,3,4])\n",
    "circuit.barrier()\n",
    "circuit.cx(3,4)\n",
    "circuit.barrier()\n",
    "circuit.h([0,1,2,3,4])\n",
    "circuit.measure([0,1,2,3], [0,1,2,3])\n",
    "\n",
    "# Visualize circuit\n",
    "circuit.draw()"
   ]
  },
  {
   "cell_type": "markdown",
   "metadata": {},
   "source": [
    "### Deutch-Jozsa simulated quantum computer"
   ]
  },
  {
   "cell_type": "code",
   "execution_count": 16,
   "metadata": {
    "scrolled": true
   },
   "outputs": [
    {
     "data": {
      "image/png": "[encoded data removed]",
      "text/plain": [
       "<Figure size 504x360 with 1 Axes>"
      ]
     },
     "execution_count": 16,
     "metadata": {},
     "output_type": "execute_result"
    }
   ],
   "source": [
    "# Execute quantum circuit and view results\n",
    "result = execute(circuit, backend_sim, shots=sim_shots).result()\n",
    "counts = result.get_counts(circuit)\n",
    "visualization.plot_histogram(counts)"
   ]
  },
  {
   "cell_type": "markdown",
   "metadata": {},
   "source": [
    "### Deutsh-Jozsa real quantum computer"
   ]
  },
  {
   "cell_type": "code",
   "execution_count": 17,
   "metadata": {},
   "outputs": [
    {
     "data": {
      "image/png": "[encoded data removed]",
      "text/plain": [
       "<Figure size 504x360 with 1 Axes>"
      ]
     },
     "execution_count": 17,
     "metadata": {},
     "output_type": "execute_result"
    }
   ],
   "source": [
    "result = execute(circuit, backend_real, shots=max_real_shots).result()\n",
    "counts = result.get_counts(circuit)\n",
    "visualization.plot_histogram(counts)"
   ]
  },
  {
   "cell_type": "markdown",
   "metadata": {},
   "source": [
    "## Quantum Speedup?\n",
    "Deutsch-Jozsa was the first quantum algorithm that showed exponentially faster computation than a classical computer. For $n$ input bits, a classical computer would need, in a worst case scenario, roughly $2^{n-1}+1$ runs while a quantum computer <strong>needs only 1</strong>! Let's tabulate this to get a little prospective. Let's assume one run for both classical and quantum computers takes 10 nanoseconds (ns).\n",
    "\n",
    "$$\n",
    "\\begin{array}{c|c|c}\n",
    "  & \\text{classical computation time} & \\text{quantum computation time} \\\\\\hline\n",
    "  n=1 & 2 \\text{ ns}& 1 \\text{ ns} \\\\\\hline\n",
    "  n=10 & 513 \\text{ ns}& 1  \\text{ ns}\\\\\\hline\n",
    "  n=50 & 6.5 \\text{ days}& 1 \\text{ ns}\\\\\\hline\n",
    "  n=90 & 19.6 \\gt \\text{ billion years}& 1 \\text{ ns}\\\\\n",
    "\\end{array}\n",
    "$$\n",
    "\n",
    "For context, $19.6$ <strong>BILLION YEARS</strong> is longer than the universe has been around. THAT's what an exponential speedup means. THAT's why people are so hot on making quantum computers work. (Though to solve other problem's than the Deutsch Problem.)"
   ]
  }
 ],
 "metadata": {
  "kernelspec": {
   "display_name": "Python 3",
   "language": "python",
   "name": "python3"
  },
  "language_info": {
   "codemirror_mode": {
    "name": "ipython",
    "version": 3
   },
   "file_extension": ".py",
   "mimetype": "text/x-python",
   "name": "python",
   "nbconvert_exporter": "python",
   "pygments_lexer": "ipython3",
   "version": "3.6.4"
  }
 },
 "nbformat": 4,
 "nbformat_minor": 2
}
